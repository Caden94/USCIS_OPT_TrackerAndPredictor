{
 "cells": [
  {
   "cell_type": "code",
   "execution_count": 1,
   "metadata": {},
   "outputs": [],
   "source": [
    "import requests\n",
    "from bs4 import BeautifulSoup"
   ]
  },
  {
   "cell_type": "code",
   "execution_count": 2,
   "metadata": {},
   "outputs": [],
   "source": [
    "headers = {\n",
    "\"Accept\":\"text/html,application/xhtml+xml,application/xml;q=0.9,image/webp,image/apng,*/*;q=0.8\",\n",
    "\"Accept-Encoding\" : \"gzip, deflate, br\",\n",
    "\"Accept-Language\": \"en-US,en;q=0.9\",\n",
    "\"Cache-Control\" : \"no-cache\",\n",
    "\"Connection\" : \"keep-alive\",\n",
    "\"Content-Type\" : \"application/x-www-form-urlencoded\",\n",
    "\"Origin\" : \"https://egov.uscis.gov\",\n",
    "\"Referer\" : \"https://egov.uscis.gov/casestatus/mycasestatus.do\",\n",
    "\"User-Agent\" : \"Mozilla/5.0 (Macintosh; Intel Mac OS X 10_13_2) AppleWebKit/537.36 (KHTML, like Gecko) Chrome/63.0.3239.132 Safari/537.36\"\n",
    "}\n",
    "\n",
    "url = \"https://egov.uscis.gov/casestatus/mycasestatus.do\""
   ]
  },
  {
   "cell_type": "code",
   "execution_count": 6,
   "metadata": {},
   "outputs": [],
   "source": [
    "casenumber = \"YSC1890023111\"\n",
    "data = {\"appReceiptNum\": casenumber}\n",
    "r = requests.post(url, data=data, headers=headers)"
   ]
  },
  {
   "cell_type": "code",
   "execution_count": 7,
   "metadata": {},
   "outputs": [
    {
     "name": "stderr",
     "output_type": "stream",
     "text": [
      "/Library/Frameworks/Python.framework/Versions/3.6/lib/python3.6/site-packages/bs4/__init__.py:181: UserWarning: No parser was explicitly specified, so I'm using the best available HTML parser for this system (\"html5lib\"). This usually isn't a problem, but if you run this code on another system, or in a different virtual environment, it may use a different parser and behave differently.\n",
      "\n",
      "The code that caused this warning is on line 193 of the file /Library/Frameworks/Python.framework/Versions/3.6/lib/python3.6/runpy.py. To get rid of this warning, change code that looks like this:\n",
      "\n",
      " BeautifulSoup(YOUR_MARKUP})\n",
      "\n",
      "to this:\n",
      "\n",
      " BeautifulSoup(YOUR_MARKUP, \"html5lib\")\n",
      "\n",
      "  markup_type=markup_type))\n"
     ]
    }
   ],
   "source": [
    "soup = BeautifulSoup(r.text)"
   ]
  },
  {
   "cell_type": "code",
   "execution_count": 8,
   "metadata": {},
   "outputs": [
    {
     "name": "stdout",
     "output_type": "stream",
     "text": [
      "Card Was Mailed To Me\n"
     ]
    }
   ],
   "source": [
    "print(soup.h1.text)"
   ]
  },
  {
   "cell_type": "code",
   "execution_count": 9,
   "metadata": {},
   "outputs": [
    {
     "name": "stdout",
     "output_type": "stream",
     "text": [
      "On January 12, 2018, we mailed your new card for Receipt Number YSC1890023111, to the address you gave us. If you do not receive your card by February 11, 2018, please go to www.uscis.gov/e-request to request that we send your new card to you. If you move, go to www.uscis.gov/addresschange to give us your new mailing address.\n"
     ]
    }
   ],
   "source": [
    "print(soup.p.text)"
   ]
  },
  {
   "cell_type": "code",
   "execution_count": null,
   "metadata": {},
   "outputs": [],
   "source": [
    "def generateCaseNumbers():\n",
    "    # \"YSC18900ijk000\"\n",
    "    casenumbers = list()\n",
    "    for i in range(4):\n",
    "        for j in range(10):\n",
    "            for k in range(10):\n",
    "                casenumbers.append(\"YSC18900\" + str(i) + str(j) + str(k) + \"00\")\n",
    "    return casenumbers"
   ]
  },
  {
   "cell_type": "code",
   "execution_count": 12,
   "metadata": {},
   "outputs": [],
   "source": [
    "def convertToRDate(date, date_dictionary):\n",
    "    # January 12, 2018 -> 2018-01-12\n",
    "    if date == None:\n",
    "        return date\n",
    "    d = date.split()\n",
    "    return str(d[2]) + \"-\" + date_dictionary[str(d[0])] + \"-\" + str(d[1])"
   ]
  },
  {
   "cell_type": "code",
   "execution_count": null,
   "metadata": {},
   "outputs": [],
   "source": [
    "date_dictionary = {\n",
    "    \"January\" : \"01\",\n",
    "    \"February\" : \"02\",\n",
    "    \"March\" : \"03\",\n",
    "    \"April\" : \"04\",\n",
    "    \"May\" : \"05\",\n",
    "    \"June\" : \"06\",\n",
    "    \"July\" : \"07\",\n",
    "    \"August\" : \"08\",\n",
    "    \"September\" : \"09\",\n",
    "    \"October\" : \"10\",\n",
    "    \"November\" : \"11\",\n",
    "    \"December\" : \"12\"\n",
    "}"
   ]
  },
  {
   "cell_type": "code",
   "execution_count": null,
   "metadata": {
    "scrolled": true
   },
   "outputs": [],
   "source": [
    "casenumbers = generateCaseNumbers()\n",
    "\n",
    "filename = \"uscis_cases.txt\"\n",
    "fh = open(filename, \"a\")\n",
    "fh.write(\"Casenumber,\" + \"Status,\" + \"Time\\n\")\n",
    "for casenumber in casenumbers:\n",
    "    data = {\"appReceiptNum\": casenumber}\n",
    "    r = requests.post(url, data=data, headers=headers)\n",
    "    soup = BeautifulSoup(r.text)\n",
    "    \n",
    "    casenumber = casenumber[len(\"YSC18900\"):]\n",
    "    if soup.h1.text == \"\":\n",
    "        fh.write(casenumber + \",\" + \"None,\" + \"None\\n\")\n",
    "    else:\n",
    "        soup.p.texts = soup.p.text.split(\",\")\n",
    "        date = soup.p.texts[0][3:] + soup.p.texts[1]\n",
    "        fh.write(casenumber + \",\" + soup.h1.text + \",\" + convertToRDate(date,date_dictionary)  + \"\\n\")\n",
    "\n",
    "fh.close()"
   ]
  },
  {
   "cell_type": "code",
   "execution_count": null,
   "metadata": {},
   "outputs": [],
   "source": []
  }
 ],
 "metadata": {
  "kernelspec": {
   "display_name": "Python 3",
   "language": "python",
   "name": "python3"
  },
  "language_info": {
   "codemirror_mode": {
    "name": "ipython",
    "version": 3
   },
   "file_extension": ".py",
   "mimetype": "text/x-python",
   "name": "python",
   "nbconvert_exporter": "python",
   "pygments_lexer": "ipython3",
   "version": "3.6.4"
  }
 },
 "nbformat": 4,
 "nbformat_minor": 2
}
